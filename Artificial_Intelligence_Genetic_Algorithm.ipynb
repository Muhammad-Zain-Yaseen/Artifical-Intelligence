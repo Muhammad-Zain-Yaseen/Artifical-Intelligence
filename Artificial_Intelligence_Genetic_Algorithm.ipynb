{
  "nbformat": 4,
  "nbformat_minor": 0,
  "metadata": {
    "colab": {
      "provenance": []
    },
    "kernelspec": {
      "name": "python3",
      "display_name": "Python 3"
    },
    "language_info": {
      "name": "python"
    }
  },
  "cells": [
    {
      "cell_type": "code",
      "source": [
        "import random\n",
        "\n",
        "def fitness(x,y):\n",
        "  return abs(2*x**3+ 7*y-147)\n",
        "\n",
        "\n",
        "def generate_population(population_size):\n",
        "    population = []\n",
        "    for i in range (population_size):\n",
        "      x= random.uniform(-10,10)\n",
        "      y = random.uniform(-10,10)\n",
        "      population.append((x,y))\n",
        "      return population\n",
        "\n",
        "def init_parents(population, no_of_parents):\n",
        "  population.sort(key=lambda x: fitness(*x))\n",
        "  return population[:no_of_parents]\n",
        "\n",
        "def crossover(parents):\n",
        "    child = []\n",
        "    for i in range(2):\n",
        "        child.append(random.choice(parents)[i])\n",
        "    return child\n",
        "\n",
        "def mutate(child):\n",
        "    if random.random() < 0.1:\n",
        "        mutation_index = random.randint(0,1)\n",
        "        child[mutation_index] += random.uniform(-1,1)\n",
        "    return child\n",
        "\n",
        "\n",
        "def gen(size_of_population, no_of_parents, number_gen):\n",
        "  population = generate_population(size_of_population)\n",
        "  for i in range(number_gen):\n",
        "    parents= init_parents(population, no_of_parents)\n",
        "    offspring = crossover(parents)\n",
        "    offspring = mutate(offspring)\n",
        "    population.append(offspring)\n",
        "    population = init_parents(population, size_of_population)\n",
        "  return population[0]\n",
        "\n",
        "\n",
        "x, y = gen(1, 10, 100)\n",
        "print(\"The final value for x:\", x)\n",
        "print(\"The Final Value for y:\", y)\n"
      ],
      "metadata": {
        "colab": {
          "base_uri": "https://localhost:8080/"
        },
        "id": "1CHR7IRBNbn9",
        "outputId": "840acf88-e5c0-46de-e087-b1b5cfd56584"
      },
      "execution_count": 22,
      "outputs": [
        {
          "output_type": "stream",
          "name": "stdout",
          "text": [
            "The final value for x: 5.124564961608328\n",
            "The Final Value for y: -0.6724087431840593\n"
          ]
        }
      ]
    }
  ]
}